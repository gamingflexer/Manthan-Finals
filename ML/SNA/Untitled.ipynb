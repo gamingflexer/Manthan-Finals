{
 "cells": [
  {
   "cell_type": "code",
   "execution_count": null,
   "id": "63ed9dd1",
   "metadata": {},
   "outputs": [],
   "source": [
    "import pandas as pd\n",
    "import networkx as nx\n",
    "import warnings"
   ]
  },
  {
   "cell_type": "code",
   "execution_count": null,
   "id": "73e71d23",
   "metadata": {},
   "outputs": [],
   "source": [
    "df = pd.read_csv(\"\")\n",
    "df.head(5)"
   ]
  },
  {
   "cell_type": "code",
   "execution_count": null,
   "id": "66e193c0",
   "metadata": {},
   "outputs": [],
   "source": [
    "# Read Our Edgelist\n",
    "us_graph = nx.from_pandas_edgelist(df,source=\"From\",target=\"To\")"
   ]
  },
  {
   "cell_type": "code",
   "execution_count": null,
   "id": "152fdefc",
   "metadata": {},
   "outputs": [],
   "source": [
    "type(us_graph)\n",
    "# Info\n",
    "nx.info(us_graph)\n",
    "# Check All Nodes/Object/People\n",
    "us_graph.nodes()"
   ]
  },
  {
   "cell_type": "code",
   "execution_count": null,
   "id": "1bd19d9c",
   "metadata": {},
   "outputs": [],
   "source": [
    "#nodes\n",
    "len(us_graph.nodes())\n",
    "#edges\n",
    "len(us_graph.edges())"
   ]
  },
  {
   "cell_type": "code",
   "execution_count": null,
   "id": "5993aa62",
   "metadata": {},
   "outputs": [],
   "source": [
    "us_graph.add_edge(\"Franklin\",\"Lincoln\")"
   ]
  },
  {
   "cell_type": "code",
   "execution_count": null,
   "id": "f2a800bf",
   "metadata": {},
   "outputs": [],
   "source": [
    "us_graph.nodes()"
   ]
  },
  {
   "cell_type": "code",
   "execution_count": null,
   "id": "d50052c6",
   "metadata": {},
   "outputs": [],
   "source": [
    "###########################################"
   ]
  },
  {
   "cell_type": "code",
   "execution_count": null,
   "id": "ad944fe4",
   "metadata": {},
   "outputs": [],
   "source": [
    "import matplotlib.pyplot as plt\n",
    "%matplotlib inline"
   ]
  },
  {
   "cell_type": "code",
   "execution_count": null,
   "id": "bddb7d05",
   "metadata": {},
   "outputs": [],
   "source": [
    "nx.draw(us_graph)"
   ]
  },
  {
   "cell_type": "code",
   "execution_count": null,
   "id": "ab6d29dd",
   "metadata": {},
   "outputs": [],
   "source": [
    "nx.draw(us_graph,with_labels=True)"
   ]
  },
  {
   "cell_type": "code",
   "execution_count": null,
   "id": "2a7fa73e",
   "metadata": {},
   "outputs": [],
   "source": [
    "nx.draw(us_graph,with_labels=True,node_color='g')"
   ]
  },
  {
   "cell_type": "code",
   "execution_count": null,
   "id": "578a0bfb",
   "metadata": {},
   "outputs": [],
   "source": [
    "# method 2\n",
    "nx.draw_networkx(us_graph)"
   ]
  },
  {
   "cell_type": "code",
   "execution_count": null,
   "id": "2e4c823d",
   "metadata": {},
   "outputs": [],
   "source": [
    "plt.figure(figsize=(10,10))\n",
    "nx.draw_networkx(us_graph)\n",
    "plt.show()"
   ]
  },
  {
   "cell_type": "code",
   "execution_count": null,
   "id": "29f5b9a1",
   "metadata": {},
   "outputs": [],
   "source": [
    "plt.savefig(\"usa_pres.png\")"
   ]
  },
  {
   "cell_type": "code",
   "execution_count": null,
   "id": "2cddbeb7",
   "metadata": {},
   "outputs": [],
   "source": [
    "####################Analysis#######################\n",
    "'''\n",
    "    Degree of Centrality\n",
    "    Most Influential\n",
    "    Most important connection\n",
    "    Best betweener\n",
    "    Shortest Path\n",
    "'''"
   ]
  },
  {
   "cell_type": "code",
   "execution_count": null,
   "id": "7c63be6f",
   "metadata": {},
   "outputs": [],
   "source": [
    "# General Connection#####################1\n",
    "nx.degree(us_graph)"
   ]
  },
  {
   "cell_type": "code",
   "execution_count": null,
   "id": "f580243f",
   "metadata": {},
   "outputs": [],
   "source": [
    "# Degree of Connection -- SAMPLE\n",
    "nx.degree(us_graph,\"Obama\")\n",
    "nx.degree(us_graph,\"Lincoln\")"
   ]
  },
  {
   "cell_type": "code",
   "execution_count": null,
   "id": "d7459977",
   "metadata": {},
   "outputs": [],
   "source": [
    "#degree centrality####################2"
   ]
  },
  {
   "cell_type": "code",
   "execution_count": null,
   "id": "5d6c4790",
   "metadata": {},
   "outputs": [],
   "source": [
    "nx.degree_centrality(us_graph)\n",
    "sorted(nx.degree_centrality(us_graph).values())"
   ]
  },
  {
   "cell_type": "code",
   "execution_count": null,
   "id": "7957588a",
   "metadata": {},
   "outputs": [],
   "source": [
    "most_influential = nx.degree_centrality(us_graph)"
   ]
  },
  {
   "cell_type": "code",
   "execution_count": null,
   "id": "186f2996",
   "metadata": {},
   "outputs": [],
   "source": [
    "for w in sorted(most_influential, key=most_influential.get, reverse=True):\n",
    "    print(w, most_influential[w])"
   ]
  },
  {
   "cell_type": "code",
   "execution_count": null,
   "id": "0dca62cd",
   "metadata": {},
   "outputs": [],
   "source": [
    "### Most Important Connection##################3\n",
    "+ nx.eigenvector_centrality"
   ]
  },
  {
   "cell_type": "code",
   "execution_count": null,
   "id": "947139e4",
   "metadata": {},
   "outputs": [],
   "source": [
    "nx.eigenvector_centrality(us_graph)"
   ]
  },
  {
   "cell_type": "code",
   "execution_count": null,
   "id": "adf0f30c",
   "metadata": {},
   "outputs": [],
   "source": [
    "most_important_link = nx.eigenvector_centrality(us_graph)"
   ]
  },
  {
   "cell_type": "code",
   "execution_count": null,
   "id": "e0759dc1",
   "metadata": {},
   "outputs": [],
   "source": [
    "for w in sorted(most_important_link, key=most_important_link.get, reverse=True):\n",
    "    print(w, most_important_link[w])"
   ]
  },
  {
   "cell_type": "code",
   "execution_count": null,
   "id": "e08d2426",
   "metadata": {},
   "outputs": [],
   "source": [
    "# What is the shortest connection between Obama and Bill Clinton\n",
    "+ Closeness central\n",
    "nx.shortest_path"
   ]
  },
  {
   "cell_type": "code",
   "execution_count": null,
   "id": "da1312a5",
   "metadata": {},
   "outputs": [],
   "source": [
    "nx.shortest_path(us_graph,\"Obama\",\"Clinton\")\n",
    "nx.shortest_path(us_graph,\"Trump\",\"Bush\")"
   ]
  },
  {
   "cell_type": "code",
   "execution_count": null,
   "id": "73a3bd11",
   "metadata": {},
   "outputs": [],
   "source": [
    "nx.shortest_path(us_graph,\"Ivanka\",\"Laura\")\n",
    "### Betweener Centrality\n",
    "+ Bridge/Connect"
   ]
  },
  {
   "cell_type": "code",
   "execution_count": null,
   "id": "a39fee00",
   "metadata": {},
   "outputs": [],
   "source": [
    "plt.figure(figsize=(10,10))\n",
    "nx.draw_networkx(us_graph)\n",
    "plt.show()"
   ]
  },
  {
   "cell_type": "code",
   "execution_count": null,
   "id": "eed452de",
   "metadata": {},
   "outputs": [],
   "source": [
    "nx.betweenness_centrality(us_graph)"
   ]
  },
  {
   "cell_type": "code",
   "execution_count": null,
   "id": "307eef85",
   "metadata": {},
   "outputs": [],
   "source": [
    "best_connector = nx.betweenness_centrality(us_graph)\n",
    "for w in sorted(best_connector, key=best_connector.get, reverse=True):\n",
    "    print(w, best_connector[w])\n"
   ]
  },
  {
   "cell_type": "code",
   "execution_count": null,
   "id": "3e5c1cdf",
   "metadata": {},
   "outputs": [],
   "source": [
    "##################Building A Subgroup###################### DONT DOO IF NOT NEEDED"
   ]
  },
  {
   "cell_type": "code",
   "execution_count": null,
   "id": "3c8d34f1",
   "metadata": {},
   "outputs": [],
   "source": [
    "group1 = nx.bfs_tree(us_graph,\"\")\n",
    "group2 = nx.bfs_tree(us_graph,\"\")\n",
    "group3 = nx.bfs_tree(us_graph,\"\")\n",
    "nx.draw_networkx(group1)"
   ]
  },
  {
   "cell_type": "code",
   "execution_count": null,
   "id": "f827dbce",
   "metadata": {},
   "outputs": [],
   "source": [
    "nx.draw_networkx(group2)"
   ]
  },
  {
   "cell_type": "code",
   "execution_count": null,
   "id": "621e8c6c",
   "metadata": {},
   "outputs": [],
   "source": [
    "nx.draw_networkx(group3)"
   ]
  },
  {
   "cell_type": "code",
   "execution_count": null,
   "id": "4bbda172",
   "metadata": {},
   "outputs": [],
   "source": [
    "nx.node_connected_component(us_graph,\"\")"
   ]
  }
 ],
 "metadata": {
  "kernelspec": {
   "display_name": "Python 3 (ipykernel)",
   "language": "python",
   "name": "python3"
  },
  "language_info": {
   "codemirror_mode": {
    "name": "ipython",
    "version": 3
   },
   "file_extension": ".py",
   "mimetype": "text/x-python",
   "name": "python",
   "nbconvert_exporter": "python",
   "pygments_lexer": "ipython3",
   "version": "3.7.11"
  }
 },
 "nbformat": 4,
 "nbformat_minor": 5
}

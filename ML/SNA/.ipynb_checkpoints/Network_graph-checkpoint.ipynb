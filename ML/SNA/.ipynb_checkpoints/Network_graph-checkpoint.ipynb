{
 "cells": [
  {
   "cell_type": "code",
   "execution_count": null,
   "id": "68dca3ae",
   "metadata": {},
   "outputs": [],
   "source": [
    "import pandas as pd\n",
    "import networkx as nx\n",
    "import warnings"
   ]
  },
  {
   "cell_type": "code",
   "execution_count": null,
   "id": "2c3480cf",
   "metadata": {},
   "outputs": [],
   "source": [
    "df = pd.read_csv(\"\")\n",
    "df.head(5)"
   ]
  },
  {
   "cell_type": "code",
   "execution_count": null,
   "id": "2bd28dd3",
   "metadata": {},
   "outputs": [],
   "source": [
    "# Read Our Edgelist\n",
    "us_graph = nx.from_pandas_edgelist(df,source=\"From\",target=\"To\")"
   ]
  },
  {
   "cell_type": "code",
   "execution_count": null,
   "id": "7a3de25f",
   "metadata": {},
   "outputs": [],
   "source": [
    "type(us_graph)\n",
    "# Info\n",
    "nx.info(us_graph)\n",
    "# Check All Nodes/Object/People\n",
    "us_graph.nodes()"
   ]
  },
  {
   "cell_type": "code",
   "execution_count": null,
   "id": "8056dcaa",
   "metadata": {},
   "outputs": [],
   "source": [
    "#nodes\n",
    "len(us_graph.nodes())\n",
    "#edges\n",
    "len(us_graph.edges())"
   ]
  },
  {
   "cell_type": "code",
   "execution_count": null,
   "id": "a6e3513f",
   "metadata": {},
   "outputs": [],
   "source": [
    "us_graph.add_edge(\"Franklin\",\"Lincoln\")"
   ]
  },
  {
   "cell_type": "code",
   "execution_count": null,
   "id": "b7241b30",
   "metadata": {},
   "outputs": [],
   "source": [
    "us_graph.nodes()"
   ]
  },
  {
   "cell_type": "code",
   "execution_count": null,
   "id": "379a0b0d",
   "metadata": {},
   "outputs": [],
   "source": [
    "###########################################"
   ]
  },
  {
   "cell_type": "code",
   "execution_count": null,
   "id": "5c54bf77",
   "metadata": {},
   "outputs": [],
   "source": [
    "import matplotlib.pyplot as plt\n",
    "%matplotlib inline"
   ]
  },
  {
   "cell_type": "code",
   "execution_count": null,
   "id": "38526701",
   "metadata": {},
   "outputs": [],
   "source": [
    "nx.draw(us_graph)"
   ]
  },
  {
   "cell_type": "code",
   "execution_count": null,
   "id": "ceb66ab3",
   "metadata": {},
   "outputs": [],
   "source": [
    "nx.draw(us_graph,with_labels=True)"
   ]
  },
  {
   "cell_type": "code",
   "execution_count": null,
   "id": "6f5ef49f",
   "metadata": {},
   "outputs": [],
   "source": [
    "nx.draw(us_graph,with_labels=True,node_color='g')"
   ]
  },
  {
   "cell_type": "code",
   "execution_count": null,
   "id": "92f81e70",
   "metadata": {},
   "outputs": [],
   "source": [
    "# method 2\n",
    "nx.draw_networkx(us_graph)"
   ]
  },
  {
   "cell_type": "code",
   "execution_count": null,
   "id": "324b8341",
   "metadata": {},
   "outputs": [],
   "source": [
    "plt.figure(figsize=(10,10))\n",
    "nx.draw_networkx(us_graph)\n",
    "plt.show()"
   ]
  },
  {
   "cell_type": "code",
   "execution_count": null,
   "id": "92c73c9b",
   "metadata": {},
   "outputs": [],
   "source": [
    "plt.savefig(\"NG_SORTING.png\")"
   ]
  },
  {
   "cell_type": "code",
   "execution_count": null,
   "id": "73e0a042",
   "metadata": {},
   "outputs": [],
   "source": [
    "####################Analysis#######################\n",
    "'''\n",
    "    Degree of Centrality\n",
    "    Most Influential\n",
    "    Most important connection\n",
    "    Best betweener\n",
    "    Shortest Path\n",
    "'''"
   ]
  },
  {
   "cell_type": "code",
   "execution_count": null,
   "id": "5411286a",
   "metadata": {},
   "outputs": [],
   "source": [
    "# General Connection#####################1\n",
    "nx.degree(us_graph)"
   ]
  },
  {
   "cell_type": "code",
   "execution_count": null,
   "id": "b6fb971c",
   "metadata": {},
   "outputs": [],
   "source": [
    "# Degree of Connection -- SAMPLE\n",
    "nx.degree(us_graph,\"Obama\")\n",
    "nx.degree(us_graph,\"Lincoln\")"
   ]
  },
  {
   "cell_type": "code",
   "execution_count": null,
   "id": "c21afd78",
   "metadata": {},
   "outputs": [],
   "source": [
    "#degree centrality####################2"
   ]
  },
  {
   "cell_type": "code",
   "execution_count": null,
   "id": "5e5ac5aa",
   "metadata": {},
   "outputs": [],
   "source": [
    "nx.degree_centrality(us_graph)\n",
    "sorted(nx.degree_centrality(us_graph).values())"
   ]
  },
  {
   "cell_type": "code",
   "execution_count": null,
   "id": "a7bcaf30",
   "metadata": {},
   "outputs": [],
   "source": [
    "most_influential = nx.degree_centrality(us_graph)"
   ]
  },
  {
   "cell_type": "code",
   "execution_count": null,
   "id": "1448e6c3",
   "metadata": {},
   "outputs": [],
   "source": [
    "for w in sorted(most_influential, key=most_influential.get, reverse=True):\n",
    "    print(w, most_influential[w])"
   ]
  },
  {
   "cell_type": "code",
   "execution_count": null,
   "id": "a3d0984c",
   "metadata": {},
   "outputs": [],
   "source": [
    "### Most Important Connection##################3\n",
    "+ nx.eigenvector_centrality"
   ]
  },
  {
   "cell_type": "code",
   "execution_count": null,
   "id": "90f5b22b",
   "metadata": {},
   "outputs": [],
   "source": [
    "nx.eigenvector_centrality(us_graph)"
   ]
  },
  {
   "cell_type": "code",
   "execution_count": null,
   "id": "161bc2b9",
   "metadata": {},
   "outputs": [],
   "source": [
    "most_important_link = nx.eigenvector_centrality(us_graph)"
   ]
  },
  {
   "cell_type": "code",
   "execution_count": null,
   "id": "12879e49",
   "metadata": {},
   "outputs": [],
   "source": [
    "for w in sorted(most_important_link, key=most_important_link.get, reverse=True):\n",
    "    print(w, most_important_link[w])"
   ]
  },
  {
   "cell_type": "code",
   "execution_count": null,
   "id": "e5a42765",
   "metadata": {},
   "outputs": [],
   "source": [
    "# What is the shortest connection between Obama and Bill Clinton\n",
    "+ Closeness central\n",
    "nx.shortest_path"
   ]
  },
  {
   "cell_type": "code",
   "execution_count": null,
   "id": "59c23dbf",
   "metadata": {},
   "outputs": [],
   "source": [
    "nx.shortest_path(us_graph,\"Obama\",\"Clinton\")\n",
    "nx.shortest_path(us_graph,\"Trump\",\"Bush\")"
   ]
  },
  {
   "cell_type": "code",
   "execution_count": null,
   "id": "f945faad",
   "metadata": {},
   "outputs": [],
   "source": [
    "nx.shortest_path(us_graph,\"Ivanka\",\"Laura\")\n",
    "### Betweener Centrality\n",
    "+ Bridge/Connect"
   ]
  },
  {
   "cell_type": "code",
   "execution_count": null,
   "id": "be6e6c0a",
   "metadata": {},
   "outputs": [],
   "source": [
    "plt.figure(figsize=(10,10))\n",
    "nx.draw_networkx(us_graph)\n",
    "plt.show()"
   ]
  },
  {
   "cell_type": "code",
   "execution_count": null,
   "id": "fd9d0ad6",
   "metadata": {},
   "outputs": [],
   "source": [
    "nx.betweenness_centrality(us_graph)"
   ]
  },
  {
   "cell_type": "code",
   "execution_count": null,
   "id": "2d8e46f4",
   "metadata": {},
   "outputs": [],
   "source": [
    "best_connector = nx.betweenness_centrality(us_graph)\n",
    "for w in sorted(best_connector, key=best_connector.get, reverse=True):\n",
    "    print(w, best_connector[w])\n"
   ]
  },
  {
   "cell_type": "code",
   "execution_count": null,
   "id": "9fb06629",
   "metadata": {},
   "outputs": [],
   "source": [
    "###########  Remove Below Persons To pre process data ##################"
   ]
  },
  {
   "cell_type": "code",
   "execution_count": null,
   "id": "cd9a0e6f",
   "metadata": {},
   "outputs": [],
   "source": []
  },
  {
   "cell_type": "code",
   "execution_count": null,
   "id": "16d07e63",
   "metadata": {},
   "outputs": [],
   "source": [
    "##################Building A Subgroup###################### DONT DOO IF NOT NEEDED"
   ]
  },
  {
   "cell_type": "code",
   "execution_count": null,
   "id": "8c441515",
   "metadata": {},
   "outputs": [],
   "source": [
    "group1 = nx.bfs_tree(us_graph,\"\")\n",
    "group2 = nx.bfs_tree(us_graph,\"\")\n",
    "group3 = nx.bfs_tree(us_graph,\"\")\n",
    "nx.draw_networkx(group1)"
   ]
  },
  {
   "cell_type": "code",
   "execution_count": null,
   "id": "7d05d4ab",
   "metadata": {},
   "outputs": [],
   "source": [
    "nx.draw_networkx(group2)"
   ]
  },
  {
   "cell_type": "code",
   "execution_count": null,
   "id": "a7e118d1",
   "metadata": {},
   "outputs": [],
   "source": [
    "nx.draw_networkx(group3)"
   ]
  },
  {
   "cell_type": "code",
   "execution_count": null,
   "id": "15f91f69",
   "metadata": {},
   "outputs": [],
   "source": [
    "nx.node_connected_component(us_graph,\"\")"
   ]
  }
 ],
 "metadata": {
  "kernelspec": {
   "display_name": "Python 3 (ipykernel)",
   "language": "python",
   "name": "python3"
  },
  "language_info": {
   "codemirror_mode": {
    "name": "ipython",
    "version": 3
   },
   "file_extension": ".py",
   "mimetype": "text/x-python",
   "name": "python",
   "nbconvert_exporter": "python",
   "pygments_lexer": "ipython3",
   "version": "3.7.11"
  }
 },
 "nbformat": 4,
 "nbformat_minor": 5
}

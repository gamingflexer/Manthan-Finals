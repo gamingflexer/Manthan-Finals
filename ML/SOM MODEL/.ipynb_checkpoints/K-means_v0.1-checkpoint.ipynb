{
 "cells": [
  {
   "cell_type": "code",
   "execution_count": null,
   "id": "1cccd7ea",
   "metadata": {},
   "outputs": [],
   "source": [
    "#K - means CLUSTTERING"
   ]
  },
  {
   "cell_type": "code",
   "execution_count": 1,
   "id": "5a38a70f",
   "metadata": {},
   "outputs": [],
   "source": [
    "import pandas as pd\n",
    "import numpy as np\n",
    "import matplotlib.pyplot as plt\n",
    "from sklearn.model_selection import train_test_split\n",
    "from sklearn.cluster import KMeans\n",
    "from sklearn.metrics import accuracy_score,confusion_matrix\n",
    "import warnings\n",
    "warnings.filterwarnings(\"ignore\")"
   ]
  },
  {
   "cell_type": "code",
   "execution_count": null,
   "id": "e0e05d29",
   "metadata": {},
   "outputs": [],
   "source": [
    "df1 = pd.read_csv('path to the csv ')\n",
    "df1.head(5)"
   ]
  },
  {
   "cell_type": "code",
   "execution_count": null,
   "id": "42620839",
   "metadata": {},
   "outputs": [],
   "source": [
    "#Here, we will take only two features and top 400 entries of each feature from the dataset just to make it easy to visualize the steps.\n",
    "\n",
    "df_new = df1[[\"SN\",\"RETWEET Count\"]]\n",
    "df_new.head()"
   ]
  },
  {
   "cell_type": "code",
   "execution_count": null,
   "id": "689e9025",
   "metadata": {},
   "outputs": [],
   "source": [
    "df_new.describe()"
   ]
  },
  {
   "cell_type": "code",
   "execution_count": null,
   "id": "bf522600",
   "metadata": {},
   "outputs": [],
   "source": [
    "df_new.isnull().sum()"
   ]
  },
  {
   "cell_type": "code",
   "execution_count": null,
   "id": "b25342a3",
   "metadata": {},
   "outputs": [],
   "source": [
    "#UNCLUSTERED DATA\n",
    "\n",
    "plt.scatter(df_new.iloc[:,0],df_new.iloc[:,1])\n",
    "plt.xlabel('CustomerAge')\n",
    "plt.ylabel('SpendingScore')\n",
    "plt.title('Plot of Unclustered Data')\n",
    "plt.show()"
   ]
  },
  {
   "cell_type": "code",
   "execution_count": null,
   "id": "2e24c375",
   "metadata": {},
   "outputs": [],
   "source": [
    "#Implementing K-means From Scratch - Depending on iteration"
   ]
  },
  {
   "cell_type": "code",
   "execution_count": null,
   "id": "7af290e4",
   "metadata": {},
   "outputs": [],
   "source": [
    "#Step-1\n",
    "k = 3#Assuming the value of k to be 3\n",
    "np.random.seed(40)\n",
    "\n",
    "#Here, we are selecting three points randomly as centroids \n",
    "random_centroids=[]\n",
    "for i in range(1,k+1):\n",
    "  random_centroids.append([np.random.randint(1,100), np.random.randint(1,100)])#Here, we have selecting the random values between 1 and 100 because most of of our values lie in this range\n",
    "print('Randomly selected points as random_centroids:',random_centroids)"
   ]
  },
  {
   "cell_type": "code",
   "execution_count": null,
   "id": "7da54be9",
   "metadata": {},
   "outputs": [],
   "source": [
    "#Step-2\n",
    "\n",
    "#Here, we are calculating the distance between the datapoints and our centroids and assigning each data-point to the closest cluster\n",
    " def assignment(df_new,random_centroids):\n",
    "\n",
    "  for i in range(length) :\n",
    "    df_new['Distance from Centroid {}'.format(i)]=(np.sqrt((df_new.iloc[:,0] - random_centroids[i][0]) ** 2 + (df_new.iloc[:,1] - random_centroids[i][1]) ** 2))\n",
    "   \n",
    "  list1=[]\n",
    "  list2=[]\n",
    "  for a,b,c in zip(df_new['Distance from Centroid 0'],df_new['Distance from Centroid 1'],df_new['Distance from Centroid 2']):\n",
    "    d = min(a,b,c)\n",
    "   \n",
    "    if d == a:\n",
    "      list1.append(0)\n",
    "      list2.append('r')\n",
    "    elif d == b:\n",
    "      list1.append(1)\n",
    "      list2.append('g')\n",
    "    else:\n",
    "      list1.append(2)\n",
    "      list2.append('b')\n",
    "  df_new['Closest_Centroid'] = list1\n",
    "  df_new['Color']=list2\n",
    "  return df_new "
   ]
  },
  {
   "cell_type": "code",
   "execution_count": null,
   "id": "4c10fb54",
   "metadata": {},
   "outputs": [],
   "source": [
    "df_new = assignment(df_new, random_centroids)\n",
    "df_new.head()"
   ]
  },
  {
   "cell_type": "code",
   "execution_count": null,
   "id": "20858531",
   "metadata": {},
   "outputs": [],
   "source": [
    "#Plotting the clusters\n",
    "plt.figure(figsize=(5,5))\n",
    "plt.scatter(df_new.iloc[:,0],df_new.iloc[:,1],color =df_new['Color'],alpha = 0.5,edgecolor = 'k')\n",
    "for i in range(length):\n",
    "  plt.scatter(*random_centroids[i],color=colors1[i])\n"
   ]
  },
  {
   "cell_type": "code",
   "execution_count": null,
   "id": "0e597796",
   "metadata": {},
   "outputs": [],
   "source": [
    "#Step-3\n",
    "\n",
    "#Update Stage\n",
    "#In this satge, we are updating the centroids of the newly formed clusters\n",
    "def update(parameter):\n",
    "    for i in range(length):\n",
    "        random_centroids[i][0] = np.mean(df_new[df_new['Closest_Centroid'] == i]['CustomerAge'])\n",
    "        random_centroids[i][1] = np.mean(df_new[df_new['Closest_Centroid'] == i]['SpendingScore'])\n",
    "    return parameter"
   ]
  },
  {
   "cell_type": "code",
   "execution_count": null,
   "id": "8a5a6183",
   "metadata": {},
   "outputs": [],
   "source": [
    "random_centroids = update(random_centroids)\n",
    "random_centroids"
   ]
  },
  {
   "cell_type": "code",
   "execution_count": null,
   "id": "6bb38bfa",
   "metadata": {},
   "outputs": [],
   "source": [
    "#Repeat Assignment Step\n",
    "#Here, we are again calculating the distance between the datapoints and our centroids and assigning each data-point to the closest cluster\n",
    "df_new = assignment(df_new, random_centroids)  \n",
    "df_new.head()\n",
    "plt.figure(figsize=(5, 5))\n",
    "plt.scatter(df_new.iloc[:,0], df_new.iloc[:,1], color=df_new['Color'], alpha=0.5, edgecolor='k')\n",
    "for i in range(length):\n",
    "  plt.scatter(*random_centroids[i], color=colors1[i])\n",
    "plt.show()"
   ]
  },
  {
   "cell_type": "code",
   "execution_count": null,
   "id": "7068a250",
   "metadata": {},
   "outputs": [],
   "source": [
    "#Step-4\n",
    "\n",
    "#In this step, we are going to keep repeating the update centroid and the assignment stage until the centroids stop changing i.e. No New Clusters being formed.\n",
    "count=1\n",
    "while True:\n",
    "  old_random_centroids = np.round(random_centroids)\n",
    "  print('Old Centroid',old_random_centroids)\n",
    "  count+=1\n",
    "  random_centroids = update(random_centroids)\n",
    "  \n",
    "  new_random_centroids = np.round(random_centroids)\n",
    "  print('New Centroid',new_random_centroids)\n",
    "\n",
    "  df_new = assignment(df_new, random_centroids)\n",
    "  result=np.allclose(old_random_centroids,new_random_centroids)#np.allclose() function checks if two arrays are equal element-wise\n",
    "  print(result)\n",
    "  if result == True:\n",
    "    break\n",
    "  \n",
    "    \n",
    "print(count)"
   ]
  },
  {
   "cell_type": "code",
   "execution_count": null,
   "id": "9607fc00",
   "metadata": {},
   "outputs": [],
   "source": [
    "#Pot Final Graph\n",
    "plt.figure(figsize=(5, 5))\n",
    "plt.scatter(df_new.iloc[:,0], df_new.iloc[:,1], color=df_new['Color'], alpha=0.5, edgecolor='k')\n",
    "plt.show()"
   ]
  },
  {
   "cell_type": "code",
   "execution_count": null,
   "id": "9c13fbd3",
   "metadata": {},
   "outputs": [],
   "source": [
    "#Implementing K-Means using scikit learn\n",
    "#USE \n",
    "\n",
    "#Here, we will take only two features and top 400 entries of each feature from the dataset just to make it easy to visualize the steps.\n",
    "df = df1[[\"CustomerAge\",\"SpendingScore\"]]\n",
    "df.head()"
   ]
  },
  {
   "cell_type": "code",
   "execution_count": null,
   "id": "272aed00",
   "metadata": {},
   "outputs": [],
   "source": [
    "#Here, we are assuming the value of k as 5\n",
    "kmeans = KMeans(n_clusters=3)#Creating a K-Means Object\n",
    "kmeans.fit(df)#Fitting the Model"
   ]
  },
  {
   "cell_type": "code",
   "execution_count": null,
   "id": "9e82fac4",
   "metadata": {},
   "outputs": [],
   "source": [
    "#Here, we are generating Labels of each point\n",
    "labels = kmeans.predict(df)\n",
    "labels"
   ]
  },
  {
   "cell_type": "code",
   "execution_count": null,
   "id": "e4760a35",
   "metadata": {},
   "outputs": [],
   "source": [
    "#printing the centroids of each cluster\n",
    "centroids = kmeans.cluster_centers_\n",
    "centroids"
   ]
  },
  {
   "cell_type": "code",
   "execution_count": null,
   "id": "ffd04780",
   "metadata": {},
   "outputs": [],
   "source": [
    "#Sum of squared distances of data-points to their closest cluster center. It tells us how well the formed clusters are\n",
    "kmeans.inertia_"
   ]
  },
  {
   "cell_type": "code",
   "execution_count": null,
   "id": "d354e2c8",
   "metadata": {},
   "outputs": [],
   "source": [
    "############# Let's visualize the Clustered Data ################\n"
   ]
  },
  {
   "cell_type": "code",
   "execution_count": null,
   "id": "51f3b8a7",
   "metadata": {},
   "outputs": [],
   "source": [
    "plt.figure(figsize=(10, 5))\n",
    "colmap = {1:'y',2:'g',3:'b',4:'r',5:'c'}\n",
    "colors = map(lambda x: colmap[x+1], labels)\n",
    "print(colors)\n",
    "colors1=list(colors)\n",
    "\n",
    "plt.scatter(df['CustomerAge'], df['SpendingScore'], color=colors1, alpha=0.5)\n",
    "for idx, centroid in enumerate(centroids):\n",
    "    plt.scatter(*centroid, color=colmap[idx+1])\n",
    "plt.xlabel('Age')\n",
    "plt.ylabel('Spending Score')\n",
    "plt.title('Plot of Clustered Data')\n",
    "plt.show()"
   ]
  },
  {
   "cell_type": "code",
   "execution_count": null,
   "id": "3712dcd0",
   "metadata": {},
   "outputs": [],
   "source": [
    "#################Elbow Method#################\n"
   ]
  },
  {
   "cell_type": "code",
   "execution_count": null,
   "id": "ac022edd",
   "metadata": {},
   "outputs": [],
   "source": [
    "inertia_list = []\n",
    "for num_clusters in np.arange(1, 21):\n",
    "    kmeans =KMeans(n_clusters=num_clusters)\n",
    "    kmeans.fit(df)\n",
    "    inertia_list.append(kmeans.inertia_)"
   ]
  },
  {
   "cell_type": "code",
   "execution_count": null,
   "id": "7cdce8a0",
   "metadata": {},
   "outputs": [],
   "source": [
    "inertia_list"
   ]
  },
  {
   "cell_type": "code",
   "execution_count": null,
   "id": "4da32c4a",
   "metadata": {},
   "outputs": [],
   "source": [
    "##############Plotting the Elbow Curve###############"
   ]
  },
  {
   "cell_type": "code",
   "execution_count": null,
   "id": "d827526d",
   "metadata": {},
   "outputs": [],
   "source": [
    "plt.figure(figsize=(10, 5))\n",
    "plt.plot(np.arange(1, 21), inertia_list)\n",
    "plt.grid(True)\n",
    "plt.xlabel('Values of K')\n",
    "plt.ylabel('Inertia')\n",
    "plt.title('Elbow Curve')\n",
    "plt.show()"
   ]
  }
 ],
 "metadata": {
  "kernelspec": {
   "display_name": "Python 3 (ipykernel)",
   "language": "python",
   "name": "python3"
  },
  "language_info": {
   "codemirror_mode": {
    "name": "ipython",
    "version": 3
   },
   "file_extension": ".py",
   "mimetype": "text/x-python",
   "name": "python",
   "nbconvert_exporter": "python",
   "pygments_lexer": "ipython3",
   "version": "3.7.11"
  }
 },
 "nbformat": 4,
 "nbformat_minor": 5
}
